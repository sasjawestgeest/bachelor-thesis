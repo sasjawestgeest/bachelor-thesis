{
 "cells": [
  {
   "cell_type": "code",
   "execution_count": 3,
   "metadata": {},
   "outputs": [
    {
     "name": "stderr",
     "output_type": "stream",
     "text": [
      "2022-01-23 09:09:14,361 - phenopy - INFO - checking if config file exists: /home/sasja/.phenopy\n",
      "2022-01-23 09:09:14,362 - phenopy - INFO - phenopy 0.5.3\n",
      "2022-01-23 09:09:14,363 - phenopy - INFO - Using configuration file: /home/sasja/.phenopy/phenopy.ini\n"
     ]
    }
   ],
   "source": [
    "import pandas as pd\n",
    "import pickle5 as pickle55\n",
    "\n",
    "import os\n",
    "\n",
    "from phenopy.build_hpo import generate_annotated_hpo_network\n",
    "from phenopy.score import Scorer\n",
    "\n",
    "import matplotlib.pyplot as plt\n",
    "import statistics\n",
    "\n",
    "import networkx as nx\n",
    "from pyvis.network import Network\n"
   ]
  },
  {
   "cell_type": "code",
   "execution_count": 3,
   "metadata": {},
   "outputs": [
    {
     "data": {
      "text/html": [
       "<div>\n",
       "<style scoped>\n",
       "    .dataframe tbody tr th:only-of-type {\n",
       "        vertical-align: middle;\n",
       "    }\n",
       "\n",
       "    .dataframe tbody tr th {\n",
       "        vertical-align: top;\n",
       "    }\n",
       "\n",
       "    .dataframe thead th {\n",
       "        text-align: right;\n",
       "    }\n",
       "</style>\n",
       "<table border=\"1\" class=\"dataframe\">\n",
       "  <thead>\n",
       "    <tr style=\"text-align: right;\">\n",
       "      <th></th>\n",
       "      <th>hpo_all</th>\n",
       "      <th>hpo_all_name</th>\n",
       "      <th>graphs</th>\n",
       "      <th>hpo_all_with_parents</th>\n",
       "      <th>hpo_all_name_with_parents</th>\n",
       "      <th>label</th>\n",
       "    </tr>\n",
       "  </thead>\n",
       "  <tbody>\n",
       "    <tr>\n",
       "      <th>0</th>\n",
       "      <td>[HP:0006579, HP:0001276, HP:0100025, HP:000987...</td>\n",
       "      <td>[Prolonged neonatal jaundice, Hypertonia, Over...</td>\n",
       "      <td>(All, Phenotypic abnormality, Abnormality of h...</td>\n",
       "      <td>[HP:0000001, HP:0000118, HP:0000152, HP:000015...</td>\n",
       "      <td>[All, Phenotypic abnormality, Abnormality of h...</td>\n",
       "      <td>spop_1</td>\n",
       "    </tr>\n",
       "    <tr>\n",
       "      <th>1</th>\n",
       "      <td>[HP:0006579, HP:0002643, HP:0100716, HP:000255...</td>\n",
       "      <td>[Prolonged neonatal jaundice, Neonatal respira...</td>\n",
       "      <td>(All, Functional abnormality of the bladder, A...</td>\n",
       "      <td>[HP:0000001, HP:0000009, HP:0000014, HP:000006...</td>\n",
       "      <td>[All, Functional abnormality of the bladder, A...</td>\n",
       "      <td>spop_1</td>\n",
       "    </tr>\n",
       "    <tr>\n",
       "      <th>2</th>\n",
       "      <td>[HP:0001561, HP:0001623, HP:0002015, HP:000887...</td>\n",
       "      <td>[Polyhydramnios, Breech presentation, Dysphagi...</td>\n",
       "      <td>(All, Abnormality of body height, Tall stature...</td>\n",
       "      <td>[HP:0000001, HP:0000002, HP:0000098, HP:000011...</td>\n",
       "      <td>[All, Abnormality of body height, Tall stature...</td>\n",
       "      <td>spop_2</td>\n",
       "    </tr>\n",
       "    <tr>\n",
       "      <th>3</th>\n",
       "      <td>[HP:0001662, HP:0001873, HP:0002105, HP:000125...</td>\n",
       "      <td>[Bradycardia, Thrombocytopenia, Hemoptysis, Se...</td>\n",
       "      <td>(All, Abnormality of body height, Abnormality ...</td>\n",
       "      <td>[HP:0000001, HP:0000002, HP:0000078, HP:000008...</td>\n",
       "      <td>[All, Abnormality of body height, Abnormality ...</td>\n",
       "      <td>spop_2</td>\n",
       "    </tr>\n",
       "    <tr>\n",
       "      <th>4</th>\n",
       "      <td>[HP:0001250, HP:0000717, HP:0000411, HP:000031...</td>\n",
       "      <td>[Seizure, Autism, Protruding ear, Hyperteloris...</td>\n",
       "      <td>(All, Phenotypic abnormality, Abnormality of h...</td>\n",
       "      <td>[HP:0000001, HP:0000118, HP:0000152, HP:000023...</td>\n",
       "      <td>[All, Phenotypic abnormality, Abnormality of h...</td>\n",
       "      <td>spop_2</td>\n",
       "    </tr>\n",
       "  </tbody>\n",
       "</table>\n",
       "</div>"
      ],
      "text/plain": [
       "                                             hpo_all  \\\n",
       "0  [HP:0006579, HP:0001276, HP:0100025, HP:000987...   \n",
       "1  [HP:0006579, HP:0002643, HP:0100716, HP:000255...   \n",
       "2  [HP:0001561, HP:0001623, HP:0002015, HP:000887...   \n",
       "3  [HP:0001662, HP:0001873, HP:0002105, HP:000125...   \n",
       "4  [HP:0001250, HP:0000717, HP:0000411, HP:000031...   \n",
       "\n",
       "                                        hpo_all_name  \\\n",
       "0  [Prolonged neonatal jaundice, Hypertonia, Over...   \n",
       "1  [Prolonged neonatal jaundice, Neonatal respira...   \n",
       "2  [Polyhydramnios, Breech presentation, Dysphagi...   \n",
       "3  [Bradycardia, Thrombocytopenia, Hemoptysis, Se...   \n",
       "4  [Seizure, Autism, Protruding ear, Hyperteloris...   \n",
       "\n",
       "                                              graphs  \\\n",
       "0  (All, Phenotypic abnormality, Abnormality of h...   \n",
       "1  (All, Functional abnormality of the bladder, A...   \n",
       "2  (All, Abnormality of body height, Tall stature...   \n",
       "3  (All, Abnormality of body height, Abnormality ...   \n",
       "4  (All, Phenotypic abnormality, Abnormality of h...   \n",
       "\n",
       "                                hpo_all_with_parents  \\\n",
       "0  [HP:0000001, HP:0000118, HP:0000152, HP:000015...   \n",
       "1  [HP:0000001, HP:0000009, HP:0000014, HP:000006...   \n",
       "2  [HP:0000001, HP:0000002, HP:0000098, HP:000011...   \n",
       "3  [HP:0000001, HP:0000002, HP:0000078, HP:000008...   \n",
       "4  [HP:0000001, HP:0000118, HP:0000152, HP:000023...   \n",
       "\n",
       "                           hpo_all_name_with_parents   label  \n",
       "0  [All, Phenotypic abnormality, Abnormality of h...  spop_1  \n",
       "1  [All, Functional abnormality of the bladder, A...  spop_1  \n",
       "2  [All, Abnormality of body height, Tall stature...  spop_2  \n",
       "3  [All, Abnormality of body height, Abnormality ...  spop_2  \n",
       "4  [All, Phenotypic abnormality, Abnormality of h...  spop_2  "
      ]
     },
     "execution_count": 3,
     "metadata": {},
     "output_type": "execute_result"
    }
   ],
   "source": [
    "pd.set_option(\"display.max_rows\", None, \"display.max_columns\", None)\n",
    "\n",
    "file = './data_all.pickle'  \n",
    "with open(file, \"rb\") as fh:\n",
    "      g = pickle55.load(fh)\n",
    "        \n",
    "g.head()"
   ]
  },
  {
   "cell_type": "code",
   "execution_count": 11,
   "metadata": {},
   "outputs": [],
   "source": [
    "omim_genes = {\n",
    "    'OMIM:148050' : 'ankrd',\n",
    "    'OMIM:300958' : 'dd3x3',\n",
    "    'OMIM:610443' : 'kansl1',\n",
    "    'OMIM:611867' : '22q11',\n",
    "    'OMIM:614104' : 'dyrk1a',\n",
    "    'OMIM:615009' : 'pacs1',\n",
    "    'OMIM:615873' : 'andp',\n",
    "    'OMIM:616158' : 'pura',\n",
    "    'OMIM:616708' : 'wac',\n",
    "    'OMIM:617140' : 'son',\n",
    "    'OMIM:616846' : 'kdm3b', \n",
    "    'OMIM:618829' : 'spop2',\n",
    "    'OMIM:618828' : 'spop1',\n",
    "    'OMIM:617854' : 'cltc',\n",
    "    'OMIM:617557' : 'yy1',\n",
    "    'OMIM:617450' : 'ppm1d'\n",
    "}\n",
    "\n",
    "diseases = list(omim_genes.keys())"
   ]
  },
  {
   "cell_type": "code",
   "execution_count": 19,
   "metadata": {
    "scrolled": false
   },
   "outputs": [],
   "source": [
    "diagnoses_database = {}\n",
    "for index in range(len(g['hpo_all'])):\n",
    "    separator = ', '\n",
    "    a = (separator.join(g['hpo_all'][index])) \n",
    "\n",
    "    result = utils.query_phenomizer('scout', 'scout123',  a)\n",
    "    # print(result.text)\n",
    "    diagnoses_omim = []\n",
    "    for i in range(50):\n",
    "        omim = result.text.split('\\n')[6:][i].split('\\t')[2]\n",
    "        diagnoses_omim.append(omim)\n",
    "\n",
    "    diagnoses_database[index] = diagnoses_omim\n",
    "    #         print(result.text.split('\\n')[6:][i].split('\\t')[2]) #OMIM\n",
    "    #         print(result.text.split('\\n')[6:][i].split('\\t')[4]) #GENE"
   ]
  },
  {
   "cell_type": "code",
   "execution_count": 20,
   "metadata": {},
   "outputs": [
    {
     "name": "stdout",
     "output_type": "stream",
     "text": [
      "jippie! 12 OMIM:610443\n",
      "jippie! 38 OMIM:615009\n",
      "jippie! 57 OMIM:610443\n",
      "jippie! 60 OMIM:610443\n",
      "jippie! 67 OMIM:614104\n",
      "jippie! 72 OMIM:300958\n",
      "jippie! 77 OMIM:610443\n",
      "jippie! 78 OMIM:610443\n",
      "jippie! 82 OMIM:610443\n",
      "jippie! 83 OMIM:610443\n",
      "jippie! 84 OMIM:610443\n",
      "jippie! 86 OMIM:610443\n",
      "jippie! 89 OMIM:610443\n",
      "jippie! 90 OMIM:610443\n",
      "jippie! 91 OMIM:610443\n",
      "jippie! 94 OMIM:610443\n",
      "jippie! 95 OMIM:610443\n",
      "jippie! 96 OMIM:610443\n",
      "jippie! 97 OMIM:610443\n",
      "jippie! 98 OMIM:610443\n",
      "jippie! 99 OMIM:610443\n",
      "jippie! 100 OMIM:610443\n",
      "jippie! 101 OMIM:610443\n",
      "jippie! 102 OMIM:610443\n",
      "jippie! 103 OMIM:610443\n",
      "jippie! 104 OMIM:610443\n",
      "jippie! 105 OMIM:610443\n",
      "jippie! 106 OMIM:610443\n",
      "jippie! 108 OMIM:615009\n",
      "jippie! 111 OMIM:615009\n",
      "jippie! 114 OMIM:615009\n",
      "jippie! 115 OMIM:615873\n",
      "jippie! 116 OMIM:615873\n",
      "jippie! 119 OMIM:615009\n",
      "jippie! 120 OMIM:615009\n",
      "jippie! 123 OMIM:615873\n",
      "jippie! 127 OMIM:615873\n",
      "jippie! 128 OMIM:615873\n",
      "jippie! 137 OMIM:615873\n",
      "jippie! 140 OMIM:615873\n",
      "jippie! 142 OMIM:615873\n",
      "jippie! 143 OMIM:615873\n",
      "jippie! 145 OMIM:615873\n",
      "jippie! 148 OMIM:615873\n",
      "jippie! 150 OMIM:615873\n",
      "jippie! 153 OMIM:615873\n",
      "jippie! 156 OMIM:615873\n",
      "jippie! 158 OMIM:615873\n",
      "jippie! 160 OMIM:615009\n",
      "jippie! 163 OMIM:615009\n",
      "jippie! 164 OMIM:615873\n",
      "jippie! 166 OMIM:615873\n",
      "jippie! 167 OMIM:615873\n",
      "jippie! 170 OMIM:615873\n",
      "jippie! 171 OMIM:615873\n",
      "jippie! 184 OMIM:615873\n",
      "jippie! 186 OMIM:615873\n",
      "jippie! 188 OMIM:615873\n",
      "jippie! 192 OMIM:615873\n",
      "jippie! 203 OMIM:615009\n",
      "jippie! 204 OMIM:615009\n",
      "jippie! 218 OMIM:615009\n",
      "jippie! 225 OMIM:615009\n",
      "jippie! 227 OMIM:615873\n",
      "jippie! 248 OMIM:610443\n",
      "jippie! 252 OMIM:615009\n",
      "jippie! 255 OMIM:614104\n",
      "jippie! 256 OMIM:610443\n",
      "jippie! 257 OMIM:610443\n",
      "jippie! 259 OMIM:610443\n",
      "jippie! 260 OMIM:610443\n",
      "jippie! 262 OMIM:614104\n",
      "jippie! 265 OMIM:614104\n",
      "jippie! 267 OMIM:610443\n",
      "jippie! 268 OMIM:610443\n",
      "jippie! 269 OMIM:614104\n",
      "jippie! 270 OMIM:610443\n",
      "jippie! 272 OMIM:610443\n",
      "jippie! 273 OMIM:610443\n",
      "jippie! 274 OMIM:610443\n",
      "jippie! 275 OMIM:610443\n",
      "jippie! 276 OMIM:615873\n",
      "jippie! 277 OMIM:614104\n",
      "jippie! 278 OMIM:300958\n",
      "jippie! 279 OMIM:610443\n",
      "jippie! 280 OMIM:610443\n",
      "jippie! 281 OMIM:610443\n",
      "jippie! 282 OMIM:614104\n",
      "jippie! 283 OMIM:610443\n",
      "jippie! 284 OMIM:610443\n",
      "jippie! 285 OMIM:610443\n",
      "jippie! 287 OMIM:614104\n",
      "jippie! 288 OMIM:610443\n",
      "jippie! 289 OMIM:614104\n",
      "jippie! 290 OMIM:610443\n",
      "jippie! 291 OMIM:610443\n",
      "jippie! 292 OMIM:610443\n",
      "jippie! 293 OMIM:610443\n",
      "jippie! 294 OMIM:610443\n",
      "jippie! 295 OMIM:610443\n",
      "jippie! 298 OMIM:610443\n",
      "jippie! 299 OMIM:614104\n",
      "jippie! 300 OMIM:610443\n",
      "jippie! 302 OMIM:610443\n",
      "jippie! 303 OMIM:610443\n",
      "jippie! 304 OMIM:615873\n",
      "jippie! 305 OMIM:610443\n",
      "jippie! 306 OMIM:610443\n",
      "jippie! 307 OMIM:610443\n",
      "jippie! 309 OMIM:610443\n",
      "jippie! 310 OMIM:610443\n",
      "jippie! 311 OMIM:610443\n",
      "jippie! 312 OMIM:610443\n",
      "jippie! 313 OMIM:610443\n",
      "jippie! 314 OMIM:610443\n",
      "jippie! 315 OMIM:610443\n",
      "jippie! 316 OMIM:610443\n",
      "jippie! 317 OMIM:610443\n",
      "jippie! 319 OMIM:610443\n",
      "jippie! 320 OMIM:610443\n",
      "jippie! 324 OMIM:610443\n",
      "jippie! 325 OMIM:610443\n",
      "jippie! 326 OMIM:610443\n",
      "jippie! 328 OMIM:614104\n",
      "jippie! 331 OMIM:615873\n",
      "jippie! 332 OMIM:610443\n",
      "jippie! 348 OMIM:610443\n",
      "jippie! 349 OMIM:614104\n",
      "jippie! 352 OMIM:610443\n",
      "jippie! 354 OMIM:610443\n",
      "jippie! 355 OMIM:610443\n",
      "jippie! 357 OMIM:610443\n",
      "jippie! 358 OMIM:610443\n",
      "jippie! 359 OMIM:614104\n",
      "jippie! 360 OMIM:610443\n",
      "jippie! 364 OMIM:614104\n",
      "jippie! 367 OMIM:615009\n",
      "jippie! 378 OMIM:610443\n",
      "jippie! 383 OMIM:610443\n",
      "jippie! 387 OMIM:615873\n",
      "jippie! 387 OMIM:616158\n",
      "jippie! 392 OMIM:614104\n",
      "jippie! 401 OMIM:610443\n",
      "jippie! 402 OMIM:610443\n",
      "jippie! 403 OMIM:610443\n",
      "jippie! 405 OMIM:610443\n",
      "jippie! 408 OMIM:610443\n",
      "jippie! 409 OMIM:610443\n",
      "jippie! 410 OMIM:610443\n",
      "jippie! 411 OMIM:610443\n",
      "jippie! 412 OMIM:614104\n",
      "jippie! 413 OMIM:610443\n",
      "jippie! 417 OMIM:610443\n",
      "jippie! 418 OMIM:610443\n",
      "jippie! 420 OMIM:610443\n",
      "jippie! 439 OMIM:610443\n",
      "jippie! 443 OMIM:614104\n",
      "jippie! 444 OMIM:610443\n",
      "jippie! 445 OMIM:610443\n",
      "jippie! 446 OMIM:610443\n",
      "jippie! 447 OMIM:610443\n",
      "jippie! 448 OMIM:610443\n",
      "jippie! 450 OMIM:610443\n",
      "jippie! 451 OMIM:610443\n",
      "jippie! 452 OMIM:610443\n",
      "jippie! 453 OMIM:610443\n",
      "jippie! 454 OMIM:615009\n",
      "jippie! 459 OMIM:614104\n",
      "jippie! 462 OMIM:614104\n",
      "jippie! 463 OMIM:615009\n",
      "jippie! 465 OMIM:614104\n",
      "jippie! 466 OMIM:614104\n",
      "jippie! 468 OMIM:615873\n",
      "jippie! 468 OMIM:611867\n",
      "jippie! 470 OMIM:300958\n",
      "jippie! 470 OMIM:615873\n",
      "jippie! 472 OMIM:614104\n",
      "jippie! 475 OMIM:614104\n",
      "jippie! 480 OMIM:300958\n",
      "jippie! 486 OMIM:610443\n",
      "jippie! 490 OMIM:614104\n",
      "jippie! 496 OMIM:614104\n",
      "jippie! 517 OMIM:610443\n",
      "jippie! 524 OMIM:614104\n",
      "jippie! 530 OMIM:614104\n",
      "jippie! 540 OMIM:610443\n",
      "jippie! 552 OMIM:614104\n"
     ]
    }
   ],
   "source": [
    "for i in diagnoses_database.keys():\n",
    "    diagnoses = diagnoses_database[i]\n",
    "    for j in diagnoses:\n",
    "        if j in diseases:\n",
    "            print('jippie!', i, j)"
   ]
  },
  {
   "cell_type": "code",
   "execution_count": 5,
   "metadata": {},
   "outputs": [],
   "source": [
    "phenopy_data_directory = os.path.join(os.getenv('HOME'), '.phenopy/data')\n",
    "obo_file = os.path.join(phenopy_data_directory, 'hp.obo')\n",
    "disease_to_phenotype_file = os.path.join(phenopy_data_directory, 'phenotype.hpoa')\n",
    "syndrome_profile_directory = os.fsencode('./syndromes')"
   ]
  },
  {
   "cell_type": "code",
   "execution_count": 6,
   "metadata": {},
   "outputs": [],
   "source": [
    "class Graph:\n",
    "    def __init__(self, graphs):\n",
    "        self.graphs = graphs\n",
    "\n",
    "    def plot_graph(self, index):\n",
    "        net = Network(height='1000 px', width='1000 px', bgcolor='##34ebc3', font_color='red', notebook=True,\n",
    "                      directed=True)\n",
    "        net.barnes_hut()\n",
    "        net.show_buttons(filter_=['physics'])\n",
    "        net.from_nx(self.graphs.values[index])\n",
    "        return net.show('graph_of_patient.html')"
   ]
  },
  {
   "cell_type": "code",
   "execution_count": 7,
   "metadata": {},
   "outputs": [],
   "source": [
    "class Update_HPO:\n",
    "    \n",
    "    def __init__(self, obo_file):\n",
    "        self.obo_file = obo_file\n",
    "        self.replacement_dict = self.create_dictionary_replacements()\n",
    "        self.non_phenotype_nodes = self.find_non_phenotype_nodes()\n",
    "   \n",
    "    def find_non_phenotype_nodes(self):\n",
    "        non_phenotype_nodes = set(['HP:0000005', 'HP:0012823', 'HP:0040279'])\n",
    "        \n",
    "        nodes_added = len(non_phenotype_nodes)\n",
    "        while nodes_added > 0:\n",
    "\n",
    "            hpobo = open(self.obo_file)\n",
    "            nodes_added = 0\n",
    "            term = ''\n",
    "\n",
    "            for line in hpobo:\n",
    "                if line.startswith('id'):\n",
    "                    term = line.split(': ')[1].split('\\n')[0]\n",
    "\n",
    "                elif line.startswith('is_a'):\n",
    "                    hpo_term = line.split(': ')[1].split(' !')[0]\n",
    "                    if hpo_term in non_phenotype_nodes and term not in non_phenotype_nodes:\n",
    "                        non_phenotype_nodes.add(term)\n",
    "                        nodes_added += 1\n",
    "        return non_phenotype_nodes\n",
    "\n",
    "\n",
    "    def create_dictionary_replacements(self):\n",
    "        hpobo = open(self.obo_file)\n",
    "        replacements = {} #key is replaced by value\n",
    "\n",
    "        term = ''\n",
    "\n",
    "        for line in hpobo:\n",
    "            if line.startswith('id'):\n",
    "                term = line.split(': ')[1].split('\\n')[0]\n",
    "\n",
    "            elif line.startswith('replaced_by'):\n",
    "                hpo_term = line.split(': ')[1].split('\\n')[0]\n",
    "                replacements[term] = hpo_term\n",
    "\n",
    "            elif line.startswith('alt_id'):\n",
    "                hpo_term = line.split(': ')[1].split('\\n')[0]\n",
    "                replacements[hpo_term] = term\n",
    "        return replacements\n",
    "\n",
    "    \n",
    "    def create_dictionary_id_name(self): #gebruik ik helemaal niet\n",
    "        hpobo = open(self.obo_file)\n",
    "        id_to_name = {}\n",
    "\n",
    "        term_id = ''\n",
    "\n",
    "        for line in hpobo:\n",
    "            if line.startswith('id'):\n",
    "                term_id = line.split(': ')[1].split('\\n')[0]\n",
    "\n",
    "            elif line.startswith('name'):\n",
    "                term_name = line.split(': ')[1].split('\\n')[0]\n",
    "                id_to_name[term_id] = term_name\n",
    "\n",
    "        return id_to_name\n",
    "    \n",
    "    def replace(self, term):\n",
    "        if term in self.replacement_dict.keys():\n",
    "            return self.replacement_dict[term]\n",
    "        else:\n",
    "            return term\n",
    "\n",
    "    \n",
    "    def delete_non_phenotype_nodes(self, term_list):\n",
    "        new_term_list = [i for i in term_list if i not in self.non_phenotype_nodes]\n",
    "        return new_term_list\n",
    "\n",
    "\n",
    "    def update_phenotype(self, patient):\n",
    "        replaced = [self.replace(term) for term in patient]\n",
    "        replaced_deleted = self.delete_non_phenotype_nodes(replaced)\n",
    "        return replaced_deleted"
   ]
  },
  {
   "cell_type": "code",
   "execution_count": 8,
   "metadata": {},
   "outputs": [],
   "source": [
    "updater = Update_HPO(obo_file)\n",
    "for index in range(len(g['hpo_all'])):\n",
    "    g['hpo_all'][index] = updater.update_phenotype(g['hpo_all'][index])\n",
    "    g['hpo_all_with_parents'][index] = updater.update_phenotype(g['hpo_all_with_parents'][index])\n",
    "    g['label'][index] = g['label'][index].replace(\"_\", \"\")"
   ]
  },
  {
   "cell_type": "code",
   "execution_count": 9,
   "metadata": {},
   "outputs": [],
   "source": [
    "class Printer:\n",
    "    \n",
    "    def data_general(self, data, syndromes_dict, lengths_hpo_names):\n",
    "        print('SYNDROMES')\n",
    "        print('\\n- amount of patients:', len(data['hpo_all']))\n",
    "        print('\\n- amount of syndromes:', len(data['label'].unique()))\n",
    "        print('\\n- syndromes: ')\n",
    "        [print(x[0],':', x[1], 'patients') for x in syndromes_dict]\n",
    "        \n",
    "        plt.hist(data['label'])\n",
    "        plt.xlabel('Syndrome')\n",
    "        plt.ylabel('Frequency')\n",
    "        plt.title('Distribution of syndromes in data')\n",
    "        plt.rcParams[\"figure.figsize\"] = (10,3)\n",
    "        plt.show()\n",
    "\n",
    "        print('\\n\\nHPO TERMS')\n",
    "        \n",
    "        self.general_info('amount of hpo terms per patient', lengths_hpo_names)\n",
    "        self.plot_histogram(lengths_hpo_names, 'Amount of terms assigned to patients', 'Amount of HPO terms for one patient', 100)\n",
    "     \n",
    "    \n",
    "    def resnik_scores_same(self, resnik_scores_same):\n",
    "        self.plot_histogram(resnik_scores_same, 'Resnik scores of patients compared to themselves', 'Resnik score')\n",
    "        self.general_info('resnik score', resnik_scores_same)\n",
    "        \n",
    "        \n",
    "    def length_profiles(self, length_profiles):\n",
    "        self.plot_histogram(length_profiles, 'Amount of terms associated with syndromes', 'Amount of terms', 50)    \n",
    "        self.general_info('length profile', length_profiles)\n",
    "    \n",
    "    \n",
    "    def general_info(self, name, data):\n",
    "        print('average', name, ':', statistics.mean(data))\n",
    "        print('median', name, ':', statistics.median(data))\n",
    "        print('mode', name, ':', statistics.mode(data))\n",
    "        print('maximum', name, ':', max(data))\n",
    "        print('minimum', name, ':', min(data))\n",
    "        \n",
    "        \n",
    "    def plot_histogram(self, data, title, xlabel, bins=None):\n",
    "        plt.hist(data, bins = bins)\n",
    "        plt.title(title)\n",
    "        plt.xlabel(xlabel)\n",
    "        plt.ylabel('Frequency')\n",
    "        plt.show()\n",
    "        \n",
    "        \n",
    "    def plot_confusion_matrix(self, confusion_matrix, labels, title):\n",
    "        plt.figure(figsize=(15,15))\n",
    "        p = sn.heatmap(confusion_matrix, annot=True, cmap=\"Blues\", annot_kws={\"size\": 10}, fmt='.3f')\n",
    "        p.set_yticklabels(list(labels), fontsize = 15, rotation = 45)\n",
    "        p.set_xticklabels(list(labels), fontsize = 15, rotation = 45)\n",
    "        plt.title(title, fontsize=17)\n",
    "        plt.xlabel(\"Predicted labels\")\n",
    "        plt.ylabel(\"True labels\")\n",
    "        plt.show()"
   ]
  },
  {
   "cell_type": "code",
   "execution_count": 108,
   "metadata": {},
   "outputs": [],
   "source": [
    "printer = Printer()\n",
    "graphs = Graph(g['graphs'])"
   ]
  },
  {
   "cell_type": "code",
   "execution_count": 78,
   "metadata": {},
   "outputs": [
    {
     "data": {
      "text/plain": [
       "['HP:0000717', 'HP:0000750', 'HP:0001249', 'HP:0001256']"
      ]
     },
     "execution_count": 78,
     "metadata": {},
     "output_type": "execute_result"
    }
   ],
   "source": [
    "g['hpo_all'][289]"
   ]
  },
  {
   "cell_type": "code",
   "execution_count": 109,
   "metadata": {},
   "outputs": [
    {
     "data": {
      "text/html": [
       "\n",
       "        <iframe\n",
       "            width=\"1000 px\"\n",
       "            height=\"1000 px\"\n",
       "            src=\"graph_of_patient.html\"\n",
       "            frameborder=\"0\"\n",
       "            allowfullscreen\n",
       "        ></iframe>\n",
       "        "
      ],
      "text/plain": [
       "<IPython.lib.display.IFrame at 0x7f22875d8fa0>"
      ]
     },
     "execution_count": 109,
     "metadata": {},
     "output_type": "execute_result"
    }
   ],
   "source": [
    "graphs.plot_graph(289)"
   ]
  },
  {
   "cell_type": "code",
   "execution_count": 72,
   "metadata": {},
   "outputs": [],
   "source": [
    "phenopy_data_directory = os.path.join(os.getenv('HOME'), '.phenopy/data')\n",
    "obo_file = os.path.join(phenopy_data_directory, 'hp.obo')\n",
    "disease_to_phenotype_file = os.path.join(phenopy_data_directory, 'phenotype.hpoa')\n",
    "\n",
    "hpo_network, alt2prim, disease_records = generate_annotated_hpo_network(obo_file, disease_to_phenotype_file)\n",
    "scorer = Scorer(hpo_network, scoring_method = 'Resnik')"
   ]
  },
  {
   "cell_type": "code",
   "execution_count": 82,
   "metadata": {},
   "outputs": [
    {
     "name": "stdout",
     "output_type": "stream",
     "text": [
      "SYNDROMES\n",
      "\n",
      "- amount of patients: 553\n",
      "\n",
      "- amount of syndromes: 16\n",
      "\n",
      "- syndromes: \n",
      "spop1 : 2 patients\n",
      "spop2 : 5 patients\n",
      "kdm3b : 13 patients\n",
      "yy1 : 14 patients\n",
      "cltc : 14 patients\n",
      "ppm1d : 15 patients\n",
      "dyrk1a : 15 patients\n",
      "pacs1 : 19 patients\n",
      "22q11 : 24 patients\n",
      "wac : 25 patients\n",
      "ddx3x : 30 patients\n",
      "ankrd : 40 patients\n",
      "son : 53 patients\n",
      "pura : 57 patients\n",
      "adnp : 81 patients\n",
      "kansl1 : 146 patients\n"
     ]
    },
    {
     "data": {
      "image/png": "[encoded data removed]",
      "text/plain": [
       "<Figure size 720x216 with 1 Axes>"
      ]
     },
     "metadata": {
      "needs_background": "light"
     },
     "output_type": "display_data"
    },
    {
     "name": "stdout",
     "output_type": "stream",
     "text": [
      "\n",
      "\n",
      "HPO TERMS\n",
      "average amount of hpo terms per patient : 20.151898734177216\n",
      "median amount of hpo terms per patient : 19\n",
      "mode amount of hpo terms per patient : 17\n",
      "maximum amount of hpo terms per patient : 79\n",
      "minimum amount of hpo terms per patient : 4\n"
     ]
    },
    {
     "data": {
      "image/png": "[encoded data removed]",
      "text/plain": [
       "<Figure size 720x216 with 1 Axes>"
      ]
     },
     "metadata": {
      "needs_background": "light"
     },
     "output_type": "display_data"
    }
   ],
   "source": [
    "syndromes = {}\n",
    "for i in g['label']:\n",
    "    if i in syndromes:\n",
    "        syndromes[i] += 1\n",
    "    else: \n",
    "        syndromes[i] = 1\n",
    "        \n",
    "syndrome_names = list(syndromes.keys())\n",
    "syndromes = sorted(syndromes.items(), key=lambda kv: kv[1])\n",
    "\n",
    "lengths_hpo_names = [len(hpo_names[x]) for x in range(len(hpo_names))]\n",
    "\n",
    "\n",
    "printer.data_general(g, syndromes, lengths_hpo_names)"
   ]
  },
  {
   "cell_type": "code",
   "execution_count": 83,
   "metadata": {},
   "outputs": [
    {
     "data": {
      "image/png": "[encoded data removed]",
      "text/plain": [
       "<Figure size 720x216 with 1 Axes>"
      ]
     },
     "metadata": {
      "needs_background": "light"
     },
     "output_type": "display_data"
    },
    {
     "name": "stdout",
     "output_type": "stream",
     "text": [
      "average resnik score : 4.010584335487351\n",
      "median resnik score : 4.0566344209818075\n",
      "mode resnik score : 4.4145634820925945\n",
      "maximum resnik score : 6.885089816155426\n",
      "minimum resnik score : 2.201917092571384\n"
     ]
    }
   ],
   "source": [
    "resnik_scores_same = []\n",
    "amount_of_hpo_terms = []\n",
    "\n",
    "for patient in g['hpo_all']:\n",
    "    score_patient = scorer.score_term_sets_basic(patient, patient)\n",
    "    resnik_scores_same.append(score_patient)\n",
    "    amount_of_hpo_terms.append(len(patient))\n",
    "    \n",
    "printer.resnik_scores_same(resnik_scores_same)"
   ]
  },
  {
   "cell_type": "code",
   "execution_count": 75,
   "metadata": {},
   "outputs": [
    {
     "name": "stderr",
     "output_type": "stream",
     "text": [
      "/home/sasja/.local/lib/python3.8/site-packages/openpyxl/styles/stylesheet.py:226: UserWarning: Workbook contains no default style, apply openpyxl's default\n",
      "  warn(\"Workbook contains no default style, apply openpyxl's default\")\n"
     ]
    }
   ],
   "source": [
    "syndromes_profiles = {}\n",
    "for file in os.listdir(os.fsencode('./syndromes')):\n",
    "    terms = []\n",
    "\n",
    "    filename = os.fsdecode(file)\n",
    "    syndrome = filename.split('_')[-1].split('.')[0]\n",
    "    terms = list(pd.read_excel('./syndromes/'+filename)['HPO_TERM_ID'])\n",
    "\n",
    "    final_terms = updater.update_phenotype(terms)    \n",
    "    syndromes_profiles[syndrome] = final_terms"
   ]
  },
  {
   "cell_type": "code",
   "execution_count": 76,
   "metadata": {
    "scrolled": true
   },
   "outputs": [
    {
     "name": "stdout",
     "output_type": "stream",
     "text": [
      "length syndromes profiles\n",
      "pacs1 : 41\n",
      "22q11 : 14\n",
      "ankrd : 31\n",
      "kdm3b : 33\n",
      "cltc : 16\n",
      "son : 82\n",
      "spop2 : 43\n",
      "pura : 19\n",
      "ppm1d : 27\n",
      "ddx3x : 27\n",
      "wac : 37\n",
      "yy1 : 25\n",
      "adnp : 41\n",
      "dyrk1a : 37\n",
      "kansl1 : 79\n",
      "spop1 : 37\n"
     ]
    },
    {
     "data": {
      "image/png": "[encoded data removed]",
      "text/plain": [
       "<Figure size 720x216 with 1 Axes>"
      ]
     },
     "metadata": {
      "needs_background": "light"
     },
     "output_type": "display_data"
    },
    {
     "name": "stdout",
     "output_type": "stream",
     "text": [
      "average length profile : 36.8125\n",
      "median length profile : 35.0\n",
      "mode length profile : 37\n",
      "maximum length profile : 82\n",
      "minimum length profile : 14\n"
     ]
    }
   ],
   "source": [
    "print('length syndromes profiles')\n",
    "for key in syndromes_profiles:\n",
    "    print(key, ':', len(syndromes_profiles[key]))\n",
    "\n",
    "length_profiles = [len(i) for i in syndromes_profiles.values()]\n",
    "    \n",
    "printer.length_profiles(length_profiles)"
   ]
  }
 ],
 "metadata": {
  "kernelspec": {
   "display_name": "Python 3",
   "language": "python",
   "name": "python3"
  },
  "language_info": {
   "codemirror_mode": {
    "name": "ipython",
    "version": 3
   },
   "file_extension": ".py",
   "mimetype": "text/x-python",
   "name": "python",
   "nbconvert_exporter": "python",
   "pygments_lexer": "ipython3",
   "version": "3.8.10"
  }
 },
 "nbformat": 4,
 "nbformat_minor": 4
}
